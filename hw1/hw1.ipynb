{
 "cells": [
  {
   "cell_type": "markdown",
   "metadata": {},
   "source": [
    "# Problem 1 - myknn_regressor\n",
    "(50%) K-nearest-neighbors (KNN) is a power method to construct nonparametric regression models. The goal of this question is to construct your own KNN regressor. To simplify the question, we are going to use the \"brute-force\" method to find nearest neighbors. That is, we are not going to use specialized data structures such as the K-D tree to speed up the process. Given a set of  N  training data points and a pre-defined hyper-parameter k, the prediction for a testing data point  xa  is computed by locating  k  data points in the training data that is cloest to  xa . If the outcome values of the  k  nearest neighbors are  ya={y1,y2,...,yk} , then the prediction is  f(ya) , where  f  is a real-valued function. We are going to consider two possible choices of  f . The first option is f(ya)=1/k∑ki=1yi.  This is referred to as the \"equal-weight\" case. The other option is to compute the mean after removing outliers. We define outliers as the data points that are outside of  [Q1−1.5IQR,Q3+1.5IQR] , where  Q1  and  Q3  are the first and third quantile of  ya , and  IQR=Q3−Q1 . Since quantiles and IQR only make sense when there are enough neighbors, we allow the \"remove_outliers\" only if  k>=10 . If  k<10 , use the \"equal_weight\"  f even if the user specify the other way.\n",
    "\n",
    "Creat a Python class named myknn_regressor that can do predictions given training data and hyper-parameters. It should take the  k  as the hyper-parameter for the number of neighbors. Moreover, the user can select  f  by passing \"equal_weight\" or \"remove_outliers\" to switch between the two possible cases for  f ."
   ]
  },
  {
   "cell_type": "markdown",
   "metadata": {},
   "source": [
    "## Create my own knn model"
   ]
  },
  {
   "cell_type": "code",
   "execution_count": 1,
   "metadata": {},
   "outputs": [],
   "source": [
    "import numpy as np\n",
    "class myknn_regressor():\n",
    "    def __init__(self, k, option):\n",
    "        self.options = {\"equal-weight\", \"remove_outliers\"}\n",
    "        if option not in self.options:\n",
    "            raise ValueError('The option parameter for myknn_reegressor should be either \"equal-weight\" or \"remove_outliers\".')\n",
    "        self.k = k\n",
    "        self.myOption = option\n",
    "        self.X_train = None\n",
    "        self.Y_train = None\n",
    "        self.feature_mean = None\n",
    "        self.feature_std = None\n",
    "    \n",
    "    def fit(self, x, y):\n",
    "        self.X_train = x\n",
    "        self.Y_train = y\n",
    "    \n",
    "    def standardize_feature(self):\n",
    "        \n",
    "        def standardize(array):\n",
    "            return((array-array.mean())/array.std())\n",
    "        \n",
    "        if self.X_train is not None:\n",
    "            self.feature_mean = np.apply_along_axis(lambda x: x.mean(), 0, self.X_train)\n",
    "            self.feature_std = np.apply_along_axis(lambda x: x.std(), 0, self.X_train)\n",
    "            self.X_train = np.apply_along_axis(standardize, 0, self.X_train)\n",
    "            \n",
    "    def EU_distance(self, v1, v2):\n",
    "        return (np.linalg.norm(v1-v2))\n",
    "        \n",
    "    def predict_single(self, X_test):\n",
    "        \n",
    "        # Standardize feature of testing data\n",
    "        if self.feature_mean is not None and self.feature_std is not None:\n",
    "            for i, value in enumerate(X_test):\n",
    "                X_test[i] = (value-self.feature_mean[i])/self.feature_std[i]\n",
    "            \n",
    "        \n",
    "        list_of_distance = np.apply_along_axis(lambda x: self.EU_distance(x, X_test), 1, self.X_train)\n",
    "        k_index = np.argpartition(list_of_distance, self.k)[:self.k]\n",
    "\n",
    "#         k_index = []\n",
    "#         for i in range(self.k):\n",
    "#             minarg = np.argmin(list_of_distance)\n",
    "\n",
    "#             if i == self.k - 1:\n",
    "#                 # last neighbor, see if there is a tie\n",
    "#                 minvalue = list_of_distance[minarg]\n",
    "#                 ind, = np.where(list_of_distance == minvalue)\n",
    "#                 if len(ind) != 1:\n",
    "#                     last_candidate = self.X_train[ind, :]\n",
    "#                     last_candidate_distance = np.apply_along_axis(lambda x: self.EU_distance(x, self.X_train[0]), 1, last_candidate)\n",
    "#                     minarg = ind[np.argmin(last_candidate_distance)]\n",
    "                    \n",
    "#             k_index.append(minarg)\n",
    "#             list_of_distance[minarg] = 100000\n",
    "\n",
    "\n",
    "        if self.myOption == \"equal-weight\" or self.k < 10:\n",
    "            return(self.Y_train[k_index].mean())\n",
    "        elif self.myOption == \"remove_outliers\" and self.k >= 10:\n",
    "            nearest_neighbors = self.Y_train[k_index]\n",
    "            q1 = np.percentile(nearest_neighbors, 25)\n",
    "            q3 = np.percentile(nearest_neighbors, 75)\n",
    "            iqr = q3 - q1\n",
    "            floor = q1 - 1.5*iqr\n",
    "            ceiling = q3 + 1.5*iqr\n",
    "            new_neighbors = nearest_neighbors[(nearest_neighbors >= floor) & (nearest_neighbors <= ceiling)]\n",
    "            return(new_neighbors.mean())\n",
    "    \n",
    "    def predict_multiple_k(self, x_test):\n",
    "        \n",
    "        multiple_result = []\n",
    "        # Standardize feature of testing data\n",
    "        if self.feature_mean is not None and self.feature_std is not None:\n",
    "            for i, value in enumerate(x_test):\n",
    "                x_test[i] = (value-self.feature_mean[i])/self.feature_std[i]\n",
    "            \n",
    "        \n",
    "        list_of_distance = np.apply_along_axis(lambda x: self.EU_distance(x, x_test), 1, self.X_train)\n",
    "        for k in self.k_list:\n",
    "            \n",
    "            k_index = np.argpartition(list_of_distance, k)[:k]\n",
    "            if self.myOption == \"equal-weight\" or k < 10:\n",
    "                multiple_result.append(self.Y_train[k_index].mean())\n",
    "            elif self.myOption == \"remove_outliers\" and k >= 10:\n",
    "                nearest_neighbors = self.Y_train[k_index]\n",
    "                q1 = np.percentile(nearest_neighbors, 25)\n",
    "                q3 = np.percentile(nearest_neighbors, 75)\n",
    "                iqr = q3 - q1\n",
    "                floor = q1 - 1.5*iqr\n",
    "                ceiling = q3 + 1.5*iqr\n",
    "                new_neighbors = nearest_neighbors[(nearest_neighbors >= floor) & (nearest_neighbors <= ceiling)]\n",
    "                multiple_result.append(new_neighbors.mean())\n",
    "            print(\"Finish k {}\".format(k), end='\\r')\n",
    "        return(multiple_result)\n",
    "        \n",
    "        \n",
    "        \n",
    "    def predict(self, X_test):\n",
    "        \"\"\"X_test a list(numpy array) of testing data, and return a list(numpy array) of prediction\"\"\"\n",
    "        self.X_test = np.array(X_test)\n",
    "        return(np.apply_along_axis(self.predict_single, 1, self.X_test))\n",
    "\n",
    "    def predict_multiple_k(self, X_test, k_list):\n",
    "\n",
    "        self.X_test = np.array(X_test)\n",
    "        self.k_list = k_list\n",
    "        result = np.apply_along_axis(lambda x: self.predict_multiple_k(x, k_list), 1, self.X_test)\n",
    "        return(result)\n",
    "        \n",
    "            "
   ]
  },
  {
   "cell_type": "markdown",
   "metadata": {},
   "source": [
    "## Load Dataset"
   ]
  },
  {
   "cell_type": "code",
   "execution_count": 2,
   "metadata": {},
   "outputs": [
    {
     "data": {
      "text/plain": [
       "{'X_train': array([[  53.39967,   56.67781,   55.63508, ...,    1.3159 ,    2.37448,\n",
       "            1.85999],\n",
       "        [  42.83464,  -33.90478,   38.97704, ...,    9.72827, -175.51446,\n",
       "          -15.8389 ],\n",
       "        [  49.88591,   23.30563,   54.79012, ...,    1.94152,  101.27241,\n",
       "            8.99355],\n",
       "        ...,\n",
       "        [  41.04397,  -96.30727,   56.8073 , ...,    3.60251,  -97.24809,\n",
       "           -5.80797],\n",
       "        [  42.8676 ,   43.36365,   29.17957, ...,   18.71014,  208.9029 ,\n",
       "          -11.08426],\n",
       "        [  36.57558,   29.8733 ,   -3.08101, ...,   21.0417 ,  106.60317,\n",
       "            3.44396]]),\n",
       " 'Y_train': array([1996., 2001., 2003., ..., 2009., 1982., 1981.]),\n",
       " 'X_test': array([[  38.51784,   55.38723,   10.31652, ...,    6.66624,  -73.75585,\n",
       "            9.47857],\n",
       "        [  44.7309 ,   46.25776,    8.55636, ...,    4.5564 ,   53.49956,\n",
       "            5.39116],\n",
       "        [  43.08912,   45.70197,   17.18467, ...,  -13.64909,   -7.42137,\n",
       "           -4.97266],\n",
       "        ...,\n",
       "        [  39.81814,   62.12221,    6.60567, ...,   28.27807,  -60.00203,\n",
       "          -11.19226],\n",
       "        [  50.25968,   43.10325,   24.72866, ...,    2.71602,  -44.27226,\n",
       "           -2.54583],\n",
       "        [  41.39744,   -8.88692,  -20.15887, ...,    8.63798, -120.34024,\n",
       "            3.65709]]),\n",
       " 'Y_test': array([1998., 1988., 2005., ..., 1990., 2005., 1989.])}"
      ]
     },
     "execution_count": 2,
     "metadata": {},
     "output_type": "execute_result"
    }
   ],
   "source": [
    "import pickle\n",
    "with open(\"msd_data1.pickle\", \"rb\") as d:\n",
    "    dataset = pickle.load(d)\n",
    "dataset"
   ]
  },
  {
   "cell_type": "markdown",
   "metadata": {},
   "source": [
    "### Q1.2\n",
    "You should standardized all feature values so that all features have a zero mean and a unit variance before training a KNN model. Make predictions using  k=20  and \"equal_weight\"  f . List the RMSE and the first 20 predictions in the testing data."
   ]
  },
  {
   "cell_type": "code",
   "execution_count": 3,
   "metadata": {},
   "outputs": [
    {
     "name": "stdout",
     "output_type": "stream",
     "text": [
      "First 20 predictions:\n",
      "[1993.35 1993.8  2000.65 1991.5  1992.8  1998.5  1988.1  1991.65 2002.25\n",
      " 2003.   2000.5  1998.65 1995.55 1997.2  1995.05 1997.4  1992.15 2000.45\n",
      " 2003.2  1995.75]\n",
      "RMSE: 10.25126451549596\n"
     ]
    }
   ],
   "source": [
    "import numpy as np\n",
    "import math\n",
    "import pickle\n",
    "with open(\"msd_data1.pickle\", \"rb\") as d:\n",
    "    dataset = pickle.load(d)\n",
    "    \n",
    "model1 = myknn_regressor(20, \"equal-weight\")\n",
    "model1.fit(dataset[\"X_train\"], dataset[\"Y_train\"])\n",
    "model1.standardize_feature()\n",
    "result1 = model1.predict(dataset[\"X_test\"])\n",
    "error1 = dataset[\"Y_test\"] - result1\n",
    "RMSE = math.sqrt(np.sum(error1**2)/len(error1))\n",
    "print(\"First 20 predictions:\")\n",
    "print(result1[:20])\n",
    "print(\"RMSE: {}\".format(RMSE))"
   ]
  },
  {
   "cell_type": "markdown",
   "metadata": {},
   "source": [
    "### Q1.3\n",
    "Standardized all feature values so that all features have a zero mean and unit variance. Make predictions using  k=20  and \"remove_outier\"  f . List the RMSE and the first 20 predictions in the testing data."
   ]
  },
  {
   "cell_type": "code",
   "execution_count": 4,
   "metadata": {},
   "outputs": [
    {
     "name": "stdout",
     "output_type": "stream",
     "text": [
      "First 20 predictions:\n",
      "[1993.35       1993.8        2000.65       1992.73684211 1992.8\n",
      " 2000.         1988.1        1991.65       2002.25       2003.94736842\n",
      " 2000.5        2000.94444444 1995.55       1997.2        1998.61111111\n",
      " 1997.4        1992.15       2003.83333333 2003.2        1995.75      ]\n",
      "RMSE: 10.212572466080376\n"
     ]
    }
   ],
   "source": [
    "import pickle\n",
    "with open(\"msd_data1.pickle\", \"rb\") as d:\n",
    "    dataset = pickle.load(d)\n",
    "    \n",
    "model2 = myknn_regressor(20, \"remove_outliers\")\n",
    "model2.fit(dataset[\"X_train\"], dataset[\"Y_train\"])\n",
    "model2.standardize_feature()\n",
    "result2 = model2.predict(dataset[\"X_test\"])\n",
    "error2 = dataset[\"Y_test\"] - result2\n",
    "RMSE2 = math.sqrt(np.sum(error2**2)/len(error2))\n",
    "print(\"First 20 predictions:\")\n",
    "print(result2[:20])\n",
    "print(\"RMSE: {}\".format(RMSE2))"
   ]
  },
  {
   "cell_type": "markdown",
   "metadata": {},
   "source": [
    "# Promblem 2 - Tuning the Hyper-parameter\n",
    "(50%) We are going to explore the issue of hyper-parameter tuning in this question. We are going to consider three cases in this question. Use the knn regressor from klearn.neighbors.KNeighborsRegressor for the first two cases, and your own myknn_regressor for the third cases.\n",
    "\n",
    "For each case, use the data from msd_data1.pickle to train and test the KNN models. Compute the RMSE on the testing dataset using  k=1,2,3,4,5,10,15,20,25,30,35,40,45,50,55,60,80,100,120,140,160,180,200 . In the first case, all feature values are standardize to have unit variances and zero means. As for the second case, do not apply feature scaling. The third case use standardized feature and adopted myknn_regressor with \"remove_outlier\"  f  to make prediction.\n",
    "\n",
    "For each case, plot a curve that shows the relations between  k  (x-axis) and RMSE (y-axis). If possible, plot the three curves in the same figure so that we can visually inspect their dynamics. Discuss your observations."
   ]
  },
  {
   "cell_type": "code",
   "execution_count": 5,
   "metadata": {},
   "outputs": [],
   "source": [
    "ks = [1,2,3,4,5,10,15,20,25,30,35,40,45,50,55,60,80,100,120,140,160,180,200]\n",
    "def compute_RMSE(predicted, observed):\n",
    "    error = observed - predicted\n",
    "    RMSE = math.sqrt(np.sum(error**2)/len(error))\n",
    "    return(RMSE)"
   ]
  },
  {
   "cell_type": "markdown",
   "metadata": {},
   "source": [
    "### First Case"
   ]
  },
  {
   "cell_type": "code",
   "execution_count": 6,
   "metadata": {},
   "outputs": [
    {
     "data": {
      "text/plain": [
       "[13.911074724837043,\n",
       " 12.068170946750795,\n",
       " 11.389120864846157,\n",
       " 11.1123354880961,\n",
       " 10.894692897614565,\n",
       " 10.425998912973919,\n",
       " 10.318171959828572,\n",
       " 10.25126451549596,\n",
       " 10.23762722509469,\n",
       " 10.215977156359507,\n",
       " 10.205243203546763,\n",
       " 10.204332770527754,\n",
       " 10.207243171822855,\n",
       " 10.206033712139762,\n",
       " 10.208862384446808,\n",
       " 10.21700262724764,\n",
       " 10.231954198429056,\n",
       " 10.247295947386965,\n",
       " 10.264908458982783,\n",
       " 10.287098382403647,\n",
       " 10.317788599090449,\n",
       " 10.330995620176944,\n",
       " 10.351940397014143]"
      ]
     },
     "execution_count": 6,
     "metadata": {},
     "output_type": "execute_result"
    }
   ],
   "source": [
    "from sklearn.neighbors import KNeighborsRegressor\n",
    "import pickle\n",
    "with open(\"msd_data1.pickle\", \"rb\") as d:\n",
    "    dataset = pickle.load(d)\n",
    "    \n",
    "def standardize_testing_data(x_test, feature_mean, feature_std):\n",
    "    for i, value in enumerate(x_test):\n",
    "        x_test[i] = (value-feature_mean[i])/feature_std[i]\n",
    "    return(x_test)\n",
    "    \n",
    "X_train_standardized = np.apply_along_axis(lambda x: (x-x.mean())/x.std(), 0, dataset[\"X_train\"])\n",
    "feature_mean = np.apply_along_axis(lambda x: x.mean(), 0, dataset[\"X_train\"])\n",
    "feature_std = np.apply_along_axis(lambda x: x.std(), 0, dataset[\"X_train\"])\n",
    "X_test_standardized = np.apply_along_axis(lambda x: standardize_testing_data(x, feature_mean, feature_std), 1, dataset[\"X_test\"])\n",
    "\n",
    "first_case_rmse = []\n",
    "for k in ks:\n",
    "    neigh = KNeighborsRegressor(n_neighbors=k)\n",
    "    neigh.fit(X_train_standardized, dataset[\"Y_train\"])\n",
    "    prediction = neigh.predict(X_test_standardized)\n",
    "    first_case_rmse.append(compute_RMSE(prediction, dataset[\"Y_test\"]))\n",
    "\n",
    "first_case_rmse"
   ]
  },
  {
   "cell_type": "markdown",
   "metadata": {},
   "source": [
    "### Second Case"
   ]
  },
  {
   "cell_type": "code",
   "execution_count": 7,
   "metadata": {},
   "outputs": [
    {
     "data": {
      "text/plain": [
       "[14.923638966418345,\n",
       " 12.777499755429464,\n",
       " 12.075674967716129,\n",
       " 11.767805657810635,\n",
       " 11.466392632384432,\n",
       " 11.07746090040493,\n",
       " 10.888979137947995,\n",
       " 10.797788546734928,\n",
       " 10.79007301797969,\n",
       " 10.75026561256701,\n",
       " 10.717738719772289,\n",
       " 10.714437504678756,\n",
       " 10.698494013475852,\n",
       " 10.69110105960404,\n",
       " 10.682608734124413,\n",
       " 10.672535729098724,\n",
       " 10.662907517124493,\n",
       " 10.67701950452466,\n",
       " 10.683139638996407,\n",
       " 10.687017556442052,\n",
       " 10.691630026202155,\n",
       " 10.69071978380711,\n",
       " 10.698853374700175]"
      ]
     },
     "execution_count": 7,
     "metadata": {},
     "output_type": "execute_result"
    }
   ],
   "source": [
    "import pickle\n",
    "with open(\"msd_data1.pickle\", \"rb\") as d:\n",
    "    dataset = pickle.load(d)\n",
    "    \n",
    "second_case_rmse = []\n",
    "for k in ks:\n",
    "    neigh = KNeighborsRegressor(n_neighbors=k)\n",
    "    neigh.fit(dataset[\"X_train\"], dataset[\"Y_train\"])\n",
    "    prediction = neigh.predict(dataset[\"X_test\"])\n",
    "    second_case_rmse.append(compute_RMSE(prediction, dataset[\"Y_test\"]))\n",
    "    \n",
    "second_case_rmse"
   ]
  },
  {
   "cell_type": "markdown",
   "metadata": {},
   "source": [
    "### Third Case"
   ]
  },
  {
   "cell_type": "code",
   "execution_count": 8,
   "metadata": {},
   "outputs": [
    {
     "data": {
      "text/plain": [
       "[13.911074724837043,\n",
       " 12.068170946750795,\n",
       " 11.389120864846157,\n",
       " 11.1123354880961,\n",
       " 10.894692897614565,\n",
       " 10.468549209697088,\n",
       " 10.293424167991525,\n",
       " 10.212572466080376,\n",
       " 10.19147537897133,\n",
       " 10.132105705172414,\n",
       " 10.109608004792985,\n",
       " 10.093231539122922,\n",
       " 10.080018891479627,\n",
       " 10.08078333324933,\n",
       " 10.059767600751963,\n",
       " 10.073857809066583,\n",
       " 10.063683549276588,\n",
       " 10.064917276737452,\n",
       " 10.067237203620246,\n",
       " 10.090646192390137,\n",
       " 10.115316675702928,\n",
       " 10.124987056716318,\n",
       " 10.146220720227745]"
      ]
     },
     "execution_count": 8,
     "metadata": {},
     "output_type": "execute_result"
    }
   ],
   "source": [
    "import pickle\n",
    "dataset = None\n",
    "with open(\"msd_data1.pickle\", \"rb\") as d:\n",
    "    dataset = pickle.load(d)\n",
    "\n",
    "third_case_rmse = []\n",
    "\n",
    "for k in ks:\n",
    "    neigh3 = myknn_regressor(k, \"remove_outliers\")\n",
    "    neigh3.fit(dataset[\"X_train\"], dataset[\"Y_train\"])\n",
    "    neigh3.standardize_feature()\n",
    "    prediction = neigh3.predict(X_test=dataset[\"X_test\"])\n",
    "    third_case_rmse.append(compute_RMSE(prediction, dataset[\"Y_test\"]))\n",
    "\n",
    "third_case_rmse"
   ]
  },
  {
   "cell_type": "code",
   "execution_count": 10,
   "metadata": {},
   "outputs": [
    {
     "data": {
      "image/png": "[encoded data removed]",
      "text/plain": [
       "<Figure size 1296x864 with 1 Axes>"
      ]
     },
     "metadata": {
      "needs_background": "light"
     },
     "output_type": "display_data"
    }
   ],
   "source": [
    "import matplotlib.pyplot as plt\n",
    "x = np.arange(len(ks))\n",
    "plt.figure(figsize=(18, 12))\n",
    "plt.xlabel(\"k\")\n",
    "plt.ylabel(\"RMSE\")\n",
    "plt.plot(x, first_case_rmse)\n",
    "plt.plot(x, second_case_rmse)\n",
    "plt.plot(x, third_case_rmse)\n",
    "\n",
    "plt.xticks(x, ks)\n",
    "plt.legend(['KNeighborsRegressor with feature standardized', 'KNeighborsRegressor without feature standardized', 'myknn_regressor with feature standardized'], loc='upper right')\n",
    "\n",
    "plt.show()"
   ]
  },
  {
   "cell_type": "markdown",
   "metadata": {},
   "source": [
    "There are a few things that we can tell from the above plot.\n",
    "1. As k increases, the perfromance of knn model generally becomes better.\n",
    "2. Models with standardizd features perform better than those without standardized feature.\n",
    "3. Removing outliers from selected neighbors can increase the performance."
   ]
  }
 ],
 "metadata": {
  "kernelspec": {
   "display_name": "Python 3",
   "language": "python",
   "name": "python3"
  },
  "language_info": {
   "codemirror_mode": {
    "name": "ipython",
    "version": 3
   },
   "file_extension": ".py",
   "mimetype": "text/x-python",
   "name": "python",
   "nbconvert_exporter": "python",
   "pygments_lexer": "ipython3",
   "version": "3.6.5"
  }
 },
 "nbformat": 4,
 "nbformat_minor": 2
}
